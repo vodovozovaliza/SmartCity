{
 "cells": [
  {
   "cell_type": "code",
   "execution_count": 1,
   "metadata": {},
   "outputs": [
    {
     "name": "stdout",
     "output_type": "stream",
     "text": [
      "[1, 4, 3, 1, 3, 4]\n",
      "[0.25, 1, 7, 3, 0.2, 1]\n",
      "[0.3333333333333333, 0.14285714285714285, 1, 0.2, 0.2, 0.16666666666666666]\n",
      "[1, 0.3333333333333333, 5, 1, 1, 0.3333333333333333]\n",
      "[0.3333333333333333, 5, 5, 1, 1, 3]\n",
      "[0.25, 1, 6, 3, 0.3333333333333333, 1]\n",
      "weights \n",
      "[0.304742066723999, 0.14859623208126688, 0.03815250645433248, 0.1413703796910407, 0.22083945348201883, 0.1462993615673421]\n"
     ]
    },
    {
     "data": {
      "image/png": "[encoded data removed]",
      "text/plain": [
       "<Figure size 512x384 with 1 Axes>"
      ]
     },
     "metadata": {
      "needs_background": "light"
     },
     "output_type": "display_data"
    }
   ],
   "source": [
    "import mai\n",
    "import view\n",
    "\n",
    "#a = [[1, 2, 1/3, 1/5, 1/7], [1/2, 1, 1/6, 1/9, 1/9], [3, 6, 1, 1/2, 1/2], [5, 9, 2, 1, 1/2], [7, 9, 2, 2, 1]]\n",
    "a = [\n",
    "    [1, 4, 3, 1, 3, 4], \n",
    "    [1/4, 1, 7, 3, 1/5, 1], \n",
    "    [1/3, 1/7, 1, 1/5, 1/5, 1/6], \n",
    "    [1, 1/3, 5, 1, 1, 1/3], \n",
    "    [1/3, 5, 5, 1, 1, 3], \n",
    "    [1/4, 1, 6, 3, 1/3, 1]\n",
    "    ]\n",
    "sz = len(a)\n",
    "for i in range(sz):\n",
    "    print(a[i])\n",
    "\n",
    "weights = mai.MAI(a)\n",
    "print('weights ')\n",
    "print(weights)\n",
    "view.show('test.csv', weights)"
   ]
  },
  {
   "cell_type": "code",
   "execution_count": null,
   "metadata": {},
   "outputs": [],
   "source": []
  }
 ],
 "metadata": {
  "kernelspec": {
   "display_name": "Python 3",
   "language": "python",
   "name": "python3"
  },
  "language_info": {
   "codemirror_mode": {
    "name": "ipython",
    "version": 3
   },
   "file_extension": ".py",
   "mimetype": "text/x-python",
   "name": "python",
   "nbconvert_exporter": "python",
   "pygments_lexer": "ipython3",
   "version": "3.7.6"
  }
 },
 "nbformat": 4,
 "nbformat_minor": 4
}
