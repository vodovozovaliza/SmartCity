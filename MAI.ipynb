{
 "cells": [
  {
   "cell_type": "code",
   "execution_count": 1,
   "metadata": {},
   "outputs": [],
   "source": [
    "def coherence(arr, w):\n",
    "    n = len(arr[0])\n",
    "    p = [0 for i in range(n)]\n",
    "    for i in range(n):\n",
    "        p[i] = 0\n",
    "        for j in range(n):\n",
    "            p[i] += arr[i][j] * w[j]\n",
    "    for i in range(n):\n",
    "        p[i] /= w[i]\n",
    "    lam = 0\n",
    "    for i in range(n):\n",
    "        lam += p[i]\n",
    "    lam /= n\n",
    "    ci = (lam - n) / (n - 1)\n",
    "    ri = 1.98 * (n - 2) / n\n",
    "    cr = ci / ri\n",
    "    return cr\n",
    "\n",
    "def MAI(arr):\n",
    "    n = len(arr[0])\n",
    "    for i in range(n):\n",
    "        s = 0\n",
    "        for j in range(n):\n",
    "            s += arr[j][i]\n",
    "        for j in range(n):\n",
    "            arr[j][i] /= s\n",
    "    res = [0 for i in range(n)]\n",
    "    for i in range(n):\n",
    "        s = 0\n",
    "        for j in range(n):\n",
    "            s += arr[i][j]\n",
    "        s /= n\n",
    "        res[i] = s\n",
    "    coh = coherence(arr, res)\n",
    "    if coh > 0.1:\n",
    "        return [-1]\n",
    "    return res\n",
    "    "
   ]
  },
  {
   "cell_type": "code",
   "execution_count": 2,
   "metadata": {},
   "outputs": [
    {
     "name": "stdout",
     "output_type": "stream",
     "text": [
      "[1, 2, 0.3333333333333333, 0.2, 0.14285714285714285]\n",
      "[0.5, 1, 0.16666666666666666, 0.1111111111111111, 0.1111111111111111]\n",
      "[3, 6, 1, 0.5, 0.5]\n",
      "[5, 9, 2, 1, 0.5]\n",
      "[7, 9, 2, 2, 1]\n",
      "[0.06222892221742467, 0.03521867824828445, 0.18777698141020935, 0.29684433129388577, 0.41793108683019575]\n"
     ]
    }
   ],
   "source": [
    "a = [[1, 2, 1/3, 1/5, 1/7], [1/2, 1, 1/6, 1/9, 1/9], [3, 6, 1, 1/2, 1/2], [5, 9, 2, 1, 1/2], [7, 9, 2, 2, 1]]\n",
    "sz = len(a)\n",
    "for i in range(sz):\n",
    "    print(a[i])\n",
    "res = [0 for i in range(sz)]\n",
    "res = MAI(a)\n",
    "print(res)"
   ]
  },
  {
   "cell_type": "code",
   "execution_count": 3,
   "metadata": {},
   "outputs": [
    {
     "data": {
      "image/png": "[encoded data removed]",
      "text/plain": [
       "<Figure size 512x384 with 1 Axes>"
      ]
     },
     "metadata": {
      "needs_background": "light"
     },
     "output_type": "display_data"
    }
   ],
   "source": [
    "import pandas as pd\n",
    "import matplotlib as mpl\n",
    "import matplotlib.pyplot as plt\n",
    "\n",
    "dpi = 80\n",
    "\n",
    "def show(input_filename, weights):\n",
    "\n",
    "    df = pd.read_csv(input_filename)\n",
    "    columns = []\n",
    "    for i in df:\n",
    "        columns.append(i)\n",
    "    n = len(columns)\n",
    "\n",
    "    #data = [['Kharkiv', 8652], ['Kiev', 9124], ['Odessa', 7592]]\n",
    "    data = []\n",
    "    for i in range(len(df[columns[0]])):\n",
    "        kpi = 0\n",
    "        for j in range(1, n):\n",
    "            kpi += weights[j-1] * df[columns[j]][i]\n",
    "        data.append([df[columns[0]][i], kpi])\n",
    "\n",
    "    data = sorted(data, key=lambda a: a[1])\n",
    "\n",
    "    data_names = []\n",
    "    data_values = []\n",
    "    for i in data:\n",
    "        data_names.append(i[0])\n",
    "        data_values.append(i[1])\n",
    "\n",
    "    mpl.rcParams.update({'font.size': 9})\n",
    "    _, ax = plt.subplots(dpi = dpi, figsize = (512 / dpi, 384 / dpi), num = 'Test')\n",
    "    ax.xaxis.grid(True, zorder = 1)\n",
    "    ax.set_title('Test')\n",
    "    xs = range(len(data_values))\n",
    "\n",
    "    plt.barh([x for x in xs], data_values,\n",
    "            height = 0.2, color = 'blue', alpha = 0.7, label = 'KPI',\n",
    "            zorder = 2)\n",
    "    plt.yticks(xs, data_names, rotation = 10)\n",
    "\n",
    "    plt.legend(loc='upper right')\n",
    "    plt.savefig('result.png')\n",
    "    plt.show()\n",
    "\n",
    "show('test.csv', [0.1, 0.1, 0.1, 0.2, 0.2, 0.4])"
   ]
  },
  {
   "cell_type": "code",
   "execution_count": null,
   "metadata": {},
   "outputs": [],
   "source": []
  }
 ],
 "metadata": {
  "kernelspec": {
   "display_name": "Python 3",
   "language": "python",
   "name": "python3"
  },
  "language_info": {
   "codemirror_mode": {
    "name": "ipython",
    "version": 3
   },
   "file_extension": ".py",
   "mimetype": "text/x-python",
   "name": "python",
   "nbconvert_exporter": "python",
   "pygments_lexer": "ipython3",
   "version": "3.7.6"
  }
 },
 "nbformat": 4,
 "nbformat_minor": 4
}
