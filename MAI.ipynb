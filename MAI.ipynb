{
 "cells": [
  {
   "cell_type": "markdown",
   "metadata": {},
   "source": [
    "# Метод анализа иерархий и визуализация"
   ]
  },
  {
   "cell_type": "markdown",
   "metadata": {},
   "source": [
    "Коэффициент согласованности - coherence"
   ]
  },
  {
   "cell_type": "code",
   "execution_count": 11,
   "metadata": {},
   "outputs": [],
   "source": [
    "import numpy as np\n",
    "def coherence(arr, w):\n",
    "    #calculate maximum eigenvalue of matrix\n",
    "    n = arr[0].size\n",
    "    p = arr @ w\n",
    "    p /= w\n",
    "    lam = p.sum()\n",
    "    lam /= n\n",
    "    #calculate concordance factor\n",
    "    ci = (lam - n) / (n - 1)\n",
    "    #calculate random index\n",
    "    ri = 1.98 * (n - 2) / n\n",
    "    #calculate coherence\n",
    "    cr = ci / ri\n",
    "    return cr"
   ]
  },
  {
   "cell_type": "markdown",
   "metadata": {},
   "source": [
    "Метод анализа иерархий"
   ]
  },
  {
   "cell_type": "code",
   "execution_count": 12,
   "metadata": {},
   "outputs": [],
   "source": [
    "def MAI(arr):\n",
    "    n = arr[0].size\n",
    "    #normalize the matrix\n",
    "    for i in range(n):\n",
    "        s = 0\n",
    "        for j in range(n):\n",
    "            s += arr[j][i]\n",
    "        for j in range(n):\n",
    "            arr[j][i] /= s\n",
    "    #calculate the relative weights of indicators\n",
    "    res = np.arange(n, dtype=float)\n",
    "    for i in range(n):\n",
    "        res[i] = arr[i].sum() / n\n",
    "    #check if matrix coherence is satisfying\n",
    "    if coherence(arr, res) > 0.1:\n",
    "        return [-1]\n",
    "    return res"
   ]
  },
  {
   "cell_type": "markdown",
   "metadata": {},
   "source": [
    "Результат работы МАИ"
   ]
  },
  {
   "cell_type": "code",
   "execution_count": 13,
   "metadata": {},
   "outputs": [
    {
     "name": "stdout",
     "output_type": "stream",
     "text": [
      "[[1.         2.         0.33333333 0.2        0.14285714]\n",
      " [0.5        1.         0.16666667 0.11111111 0.11111111]\n",
      " [3.         6.         1.         0.5        0.5       ]\n",
      " [5.         9.         2.         1.         0.5       ]\n",
      " [7.         9.         2.         2.         1.        ]]\n",
      "[0.06222892 0.03521868 0.18777698 0.29684433 0.41793109]\n"
     ]
    }
   ],
   "source": [
    "if __name__ == '__main__':\n",
    "    #initialize data\n",
    "    a = np.array([[1, 2, 1/3, 1/5, 1/7], [1/2, 1, 1/6, 1/9, 1/9], [3, 6, 1, 1/2, 1/2], [5, 9, 2, 1, 1/2], [7, 9, 2, 2, 1]])\n",
    "    #print initial data\n",
    "    print(a)\n",
    "    #print resulting data\n",
    "    print(MAI(a))"
   ]
  },
  {
   "cell_type": "markdown",
   "metadata": {},
   "source": [
    "Создание диаграммы"
   ]
  },
  {
   "cell_type": "code",
   "execution_count": 14,
   "metadata": {},
   "outputs": [],
   "source": [
    "import numpy as np\n",
    "import pandas as pd\n",
    "import matplotlib as mpl\n",
    "import matplotlib.pyplot as plt\n",
    "\n",
    "dpi = 80\n",
    "\n",
    "def normalize(df):\n",
    "    result = df.copy()\n",
    "    for feature_name in df.columns[1:]:\n",
    "        # Mean\n",
    "        mean = df[feature_name].mean()\n",
    "        # Count of values\n",
    "        n = len(df[feature_name])\n",
    "        # Sample standart deviation\n",
    "        ssd = np.sqrt((1 / (n - 1)) * np.power(df[feature_name] - mean, 2).sum())\n",
    "\n",
    "        result[feature_name] = (df[feature_name] - mean) / ssd\n",
    "    return result\n",
    "\n",
    "def show(input_filename, weights):\n",
    "\n",
    "    df = pd.read_csv(input_filename)\n",
    "\n",
    "    # Normalize\n",
    "    #print(df[df.columns[1:]])\n",
    "    df = normalize(df)\n",
    "    #print(df[df.columns[1:]])\n",
    "\n",
    "    # data processing\n",
    "    df['Total score'] = (df[df.columns[1:]] * weights).sum(axis=1)\n",
    "    #print(df['Total score'])\n",
    "    # sort values by total score\n",
    "    df.sort_values(by='Total score', ascending=True, inplace=True)\n",
    "\n",
    "    # Set font size\n",
    "    mpl.rcParams.update({'font.size': 9})\n",
    "    # Create figure\n",
    "    _, ax = plt.subplots(dpi = dpi, figsize = (512 / dpi, 384 / dpi), num = 'Test')\n",
    "    # Drawing vertical lines for x axis\n",
    "    ax.xaxis.grid(True, zorder = 1)\n",
    "    ax.set_title('Test')\n",
    "    # The y coordinates of the bars\n",
    "    xs = range(len(df['Total score'].values))\n",
    "\n",
    "    # Create a horizontal bar plots\n",
    "    plt.barh(xs, df['Total score'].values,\n",
    "            height = 0.2, color = 'blue', alpha = 0.7, label = 'KPI',\n",
    "            zorder = 2)\n",
    "\n",
    "    # Draw names of objects\n",
    "    plt.yticks(xs, df[df.columns[0]].values, rotation = 10)\n",
    "\n",
    "    # Set legend location\n",
    "    plt.legend(loc='upper right')\n",
    "    plt.savefig('result.png')\n",
    "    plt.show()\n",
    "\n",
    "#if __name__ == '__main__':\n",
    "    #show('movehubcostofliving.csv', [0.1, 0.1, 0.1, 0.2, 0.2, 0.4])\n",
    "    #show('test.csv', [0.1, 0.1, 0.1, 0.2, 0.2, 0.4])"
   ]
  },
  {
   "cell_type": "markdown",
   "metadata": {},
   "source": [
    "Визуализация"
   ]
  },
  {
   "cell_type": "code",
   "execution_count": 15,
   "metadata": {},
   "outputs": [
    {
     "data": {
      "image/png": "[encoded data removed]",
      "text/plain": [
       "<Figure size 512x384 with 1 Axes>"
      ]
     },
     "metadata": {
      "needs_background": "light"
     },
     "output_type": "display_data"
    }
   ],
   "source": [
    "#show('movehubcostofliving.csv', [0.1, 0.1, 0.1, 0.2, 0.2, 0.4])\n",
    "show('test.csv', [0.1, 0.1, 0.1, 0.2, 0.2, 0.4])"
   ]
  },
  {
   "cell_type": "code",
   "execution_count": null,
   "metadata": {},
   "outputs": [],
   "source": []
  }
 ],
 "metadata": {
  "kernelspec": {
   "display_name": "Python 3",
   "language": "python",
   "name": "python3"
  },
  "language_info": {
   "codemirror_mode": {
    "name": "ipython",
    "version": 3
   },
   "file_extension": ".py",
   "mimetype": "text/x-python",
   "name": "python",
   "nbconvert_exporter": "python",
   "pygments_lexer": "ipython3",
   "version": "3.8.3"
  }
 },
 "nbformat": 4,
 "nbformat_minor": 4
}
